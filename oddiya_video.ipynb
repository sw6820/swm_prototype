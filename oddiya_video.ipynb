{
  "nbformat": 4,
  "nbformat_minor": 0,
  "metadata": {
    "colab": {
      "provenance": [],
      "authorship_tag": "ABX9TyP1c/O42I93sw862PYp1LaT",
      "include_colab_link": true
    },
    "kernelspec": {
      "name": "python3",
      "display_name": "Python 3"
    },
    "language_info": {
      "name": "python"
    }
  },
  "cells": [
    {
      "cell_type": "markdown",
      "metadata": {
        "id": "view-in-github",
        "colab_type": "text"
      },
      "source": [
        "<a href=\"https://colab.research.google.com/github/sw6820/swm_prototype/blob/main/oddiya_video.ipynb\" target=\"_parent\"><img src=\"https://colab.research.google.com/assets/colab-badge.svg\" alt=\"Open In Colab\"/></a>"
      ]
    },
    {
      "cell_type": "code",
      "execution_count": null,
      "metadata": {
        "colab": {
          "base_uri": "https://localhost:8080/"
        },
        "id": "ThC1M6d3bnXN",
        "outputId": "c7c783c5-4fc7-494d-e17d-ed86cd002de6"
      },
      "outputs": [
        {
          "output_type": "stream",
          "name": "stdout",
          "text": [
            "Mounted at /content/drive\n",
            "✅ 구글 드라이브 마운트 성공.\n",
            "✅ Gemini API 설정 완료.\n"
          ]
        }
      ],
      "source": [
        "# ------------------------------------------------------------------------------\n",
        "# [셀 1] 초기 설정 및 라이브러리 설치 (가장 먼저 한 번만 실행)\n",
        "# ------------------------------------------------------------------------------\n",
        "\n",
        "# 1. 필수 라이브러리 설치\n",
        "!pip install -q google-generativeai requests beautifulsoup4\n",
        "\n",
        "# 2. 라이브러리 임포트\n",
        "import os\n",
        "import glob\n",
        "import subprocess\n",
        "import shutil\n",
        "import json\n",
        "import requests\n",
        "from bs4 import BeautifulSoup\n",
        "from PIL import Image\n",
        "import google.generativeai as genai\n",
        "from google.colab import drive\n",
        "from google.colab import userdata\n",
        "\n",
        "# 3. 구글 드라이브 마운트\n",
        "try:\n",
        "    drive.mount('/content/drive')\n",
        "    print(\"✅ 구글 드라이브 마운트 성공.\")\n",
        "except Exception as e:\n",
        "    print(f\"❗️ 구글 드라이브 마운트 실패: {e}\")\n",
        "\n",
        "# 4. Colab 보안 비밀에서 API 키 가져오기\n",
        "GEMINI_API_KEY = userdata.get('GOOGLE_API_KEY')\n",
        "\n",
        "# 5. 경로 및 영상 속성 설정\n",
        "IMAGE_FOLDER = '/content/drive/MyDrive/images'\n",
        "MUSIC_FOLDER = '/content/drive/MyDrive/music' # 자동 다운로드된 음악이 저장될 폴더\n",
        "OUTPUT_VIDEO = 'output_shorts_final.mp4'\n",
        "TEMP_DIR = \"temp_processing\"\n",
        "\n",
        "IMAGE_DURATION = 3\n",
        "TRANSITION_DURATION = 1\n",
        "TARGET_FPS = 30\n",
        "\n",
        "# 6. AI 설정\n",
        "AVAILABLE_TRANSITIONS = [\n",
        "    'fade', 'fadeblack', 'fadewhite', 'distance', 'wipeleft', 'wiperight', 'wipeup', 'wipedown',\n",
        "    'slideleft', 'slideright', 'slideup', 'slidedown', 'circleopen', 'circleclose', 'dissolve',\n",
        "    'pixelize', 'radial', 'diagtl', 'diagtr', 'diagbl', 'diagbr'\n",
        "]\n",
        "\n",
        "# 7. Gemini 모델 초기화\n",
        "model = None\n",
        "if GEMINI_API_KEY:\n",
        "    try:\n",
        "        genai.configure(api_key=GEMINI_API_KEY)\n",
        "        model = genai.GenerativeModel('gemini-2.0-flash')\n",
        "        print(\"✅ Gemini API 설정 완료.\")\n",
        "    except Exception as e:\n",
        "        print(f\"❗️ API 설정 중 오류 발생: {e}\")\n",
        "else:\n",
        "    print(\"❗️ Colab 보안 비밀(Secrets)에서 'GOOGLE_API_KEY'를 찾을 수 없습니다.\")"
      ]
    },
    {
      "cell_type": "code",
      "source": [
        "pwd"
      ],
      "metadata": {
        "colab": {
          "base_uri": "https://localhost:8080/",
          "height": 36
        },
        "id": "JULq9y2qJj5t",
        "outputId": "1679447e-16c3-4b34-abc8-a4d8ee0a444a"
      },
      "execution_count": null,
      "outputs": [
        {
          "output_type": "execute_result",
          "data": {
            "text/plain": [
              "'/content'"
            ],
            "application/vnd.google.colaboratory.intrinsic+json": {
              "type": "string"
            }
          },
          "metadata": {},
          "execution_count": 2
        }
      ]
    },
    {
      "cell_type": "code",
      "source": [
        "ls MUSIC_FOLDER"
      ],
      "metadata": {
        "colab": {
          "base_uri": "https://localhost:8080/"
        },
        "id": "bdTnOMi0JnLA",
        "outputId": "b841c734-a7b5-485c-a9c0-1da808c5c125"
      },
      "execution_count": null,
      "outputs": [
        {
          "output_type": "stream",
          "name": "stdout",
          "text": [
            "ls: cannot access 'MUSIC_FOLDER': No such file or directory\n"
          ]
        }
      ]
    },
    {
      "cell_type": "code",
      "source": [
        "!ls IMAGE_FOLDER"
      ],
      "metadata": {
        "colab": {
          "base_uri": "https://localhost:8080/"
        },
        "id": "6E5_40rHJSLq",
        "outputId": "ce99c08c-867e-4895-8811-7a0a0bce4840"
      },
      "execution_count": null,
      "outputs": [
        {
          "output_type": "stream",
          "name": "stdout",
          "text": [
            "ls: cannot access 'IMAGE_FOLDER': No such file or directory\n"
          ]
        }
      ]
    },
    {
      "cell_type": "code",
      "source": [
        "# ------------------------------------------------------------------------------\n",
        "# [셀 2] AI 기능 정의 (업그레이드)\n",
        "# ------------------------------------------------------------------------------\n",
        "\n",
        "def get_ai_creative_plan(image_paths):\n",
        "    \"\"\"AI가 이미지를 보고 제목, 효과, 음악 스타일을 포함한 영상 계획을 생성합니다.\"\"\"\n",
        "    if not model: return None\n",
        "    print(\"🤖 AI가 이미지를 분석하여 영상 계획을 생성합니다...\")\n",
        "    try:\n",
        "        image_parts = [Image.open(p) for p in image_paths]\n",
        "        num_transitions = len(image_paths) - 1\n",
        "\n",
        "        prompt = f\"\"\"\n",
        "        You are a creative director. Based on the following images, create a plan for a short video.\n",
        "        Provide your response strictly in the following JSON format.\n",
        "\n",
        "        - \"title\": A short, catchy title for the video.\n",
        "        - \"transitions\": A list of {num_transitions} transition effects from {AVAILABLE_TRANSITIONS}.\n",
        "        - \"music_style_description\": A detailed description of the perfect music style for this video (e.g., \"A calm, emotional piano melody with a slow tempo, suitable for a nostalgic look back at a beautiful trip.\").\n",
        "\n",
        "        {{\n",
        "          \"title\": \"Your Title Here\",\n",
        "          \"transitions\": [\"effect1\", \"effect2\", ...],\n",
        "          \"music_style_description\": \"Your detailed music description here\"\n",
        "        }}\n",
        "        \"\"\"\n",
        "        response = model.generate_content([prompt] + image_parts)\n",
        "        json_str = response.text.strip().split('```json')[1].split('```')[0]\n",
        "        return json.loads(json_str)\n",
        "    except Exception as e:\n",
        "        print(f\"❗️ AI 영상 계획 생성 중 오류 발생: {e}\")\n",
        "        return None\n",
        "\n",
        "def choose_music_with_ai(music_file_list, music_description):\n",
        "    \"\"\"AI가 주어진 음악 파일 목록에서 설명과 가장 일치하는 곡을 선택합니다.\"\"\"\n",
        "    if not model or not music_file_list or not music_description: return None\n",
        "    print(f\"🎶 AI가 음악 라이브러리에서 가장 어울리는 곡을 선택합니다...\")\n",
        "    try:\n",
        "        # 파일명에서 확장자와 숫자 등을 제거하여 AI가 더 잘 이해하도록 정리\n",
        "        cleaned_names = [name.replace('.mp3', '').replace('.wav', '').replace('-', ' ').replace('_', ' ') for name in music_file_list]\n",
        "\n",
        "        prompt = f\"\"\"\n",
        "        You are a Music Director. Your task is to select the best song for a video.\n",
        "\n",
        "        1. The desired music style is: \"{music_description}\"\n",
        "        2. Here is a list of available music files: {', '.join(cleaned_names)}\n",
        "\n",
        "        Analyze the file names and choose the ONE file name that best matches the desired music style.\n",
        "        Your answer must be only the chosen file name from the list, with no extra text.\n",
        "        \"\"\"\n",
        "        response = model.generate_content(prompt)\n",
        "        chosen_cleaned_name = response.text.strip()\n",
        "\n",
        "        # AI가 선택한 정리된 이름과 가장 유사한 원본 파일명 찾기\n",
        "        for original_name in music_file_list:\n",
        "            if chosen_cleaned_name.replace(' ', '') in original_name.replace('-', '').replace('_', ''):\n",
        "                print(f\"   - AI 선택: {original_name}\")\n",
        "                return os.path.join(MUSIC_FOLDER, original_name)\n",
        "\n",
        "        # 일치하는 이름을 못 찾으면 첫 번째 곡을 기본값으로 사용\n",
        "        print(\"   - AI가 선택한 곡을 찾지 못해 첫 번째 곡을 기본으로 사용합니다.\")\n",
        "        return os.path.join(MUSIC_FOLDER, music_file_list[0])\n",
        "\n",
        "    except Exception as e:\n",
        "        print(f\"❗️ AI 음악 선택 중 오류 발생: {e}\")\n",
        "        # 오류 발생 시 첫 번째 곡을 기본값으로 사용\n",
        "        return os.path.join(MUSIC_FOLDER, music_file_list[0])"
      ],
      "metadata": {
        "id": "H3Fb8JFEbuR4"
      },
      "execution_count": null,
      "outputs": []
    },
    {
      "cell_type": "code",
      "source": [
        "# ------------------------------------------------------------------------------\n",
        "# [셀 3] FFmpeg 동영상 처리 기능 정의 (함수 선언)\n",
        "# ------------------------------------------------------------------------------\n",
        "\n",
        "def run_ffmpeg(command):\n",
        "    \"\"\"FFmpeg 명령어를 실행하고 오류를 처리하는 헬퍼 함수입니다.\"\"\"\n",
        "    try:\n",
        "        subprocess.run(command, check=True, capture_output=True, text=True)\n",
        "    except subprocess.CalledProcessError as e:\n",
        "        print(\"\\n❗️ FFmpeg 실행 중 오류가 발생했습니다.\")\n",
        "        print(\"--- FFmpeg Command ---\")\n",
        "        print(' '.join(f\"'{arg}'\" if ' ' in arg else arg for arg in command))\n",
        "        print(\"\\n--- FFmpeg Error ---\")\n",
        "        print(e.stderr)\n",
        "        raise e\n",
        "\n",
        "def create_silent_video(image_paths, transitions):\n",
        "    \"\"\"순차적 방식으로 전환 효과가 적용된 무음 영상을 생성합니다.\"\"\"\n",
        "    print(\"🎬 무음 영상 제작을 시작합니다...\")\n",
        "    base_video_path = os.path.join(TEMP_DIR, \"step_0.mp4\")\n",
        "\n",
        "    # 1. 첫 이미지로 기반 영상 생성\n",
        "    command = [\n",
        "        'ffmpeg', '-y', '-loop', '1', '-t', str(IMAGE_DURATION), '-i', image_paths[0],\n",
        "        '-vf', f\"scale=1920:1080:force_original_aspect_ratio=decrease,pad=1920:1080:(ow-iw)/2:(oh-ih)/2,setsar=1,format=yuv420p,fps={TARGET_FPS}\",\n",
        "        '-c:v', 'libx264', '-r', str(TARGET_FPS), base_video_path\n",
        "    ]\n",
        "    run_ffmpeg(command)\n",
        "\n",
        "    # 2. 나머지 이미지를 순차적으로 합성\n",
        "    for i in range(1, len(image_paths)):\n",
        "        input_video = base_video_path\n",
        "        output_video_temp = os.path.join(TEMP_DIR, f\"step_{i}.mp4\")\n",
        "        video_duration = (i * IMAGE_DURATION) - ((i - 1) * TRANSITION_DURATION)\n",
        "\n",
        "        filter_complex_str = (\n",
        "            f\"[0:v]settb=AVTB[v0];\"\n",
        "            f\"[1:v]scale=1920:1080:force_original_aspect_ratio=decrease,pad=1920:1080:(ow-iw)/2:(oh-ih)/2,setsar=1,format=yuv420p,fps={TARGET_FPS},settb=AVTB[v1];\"\n",
        "            f\"[v0][v1]xfade=transition={transitions[i-1]}:duration={TRANSITION_DURATION}:offset={video_duration - TRANSITION_DURATION}\"\n",
        "        )\n",
        "        command = [\n",
        "            'ffmpeg', '-y', '-i', input_video, '-loop', '1', '-t', str(IMAGE_DURATION), '-i', image_paths[i],\n",
        "            '-filter_complex', filter_complex_str,\n",
        "            '-c:v', 'libx264', '-r', str(TARGET_FPS), output_video_temp\n",
        "        ]\n",
        "        run_ffmpeg(command)\n",
        "        base_video_path = output_video_temp\n",
        "    return base_video_path\n",
        "\n",
        "def add_music_to_video(silent_video_path, music_path, final_output_path):\n",
        "    \"\"\"무음 영상에 배경 음악을 합성합니다.\"\"\"\n",
        "    if not music_path or not os.path.exists(music_path):\n",
        "        print(\"⚠️ 음악 파일이 없어 음악 없이 영상을 최종 저장합니다.\")\n",
        "        shutil.copy(silent_video_path, final_output_path)\n",
        "        return\n",
        "\n",
        "    print(f\"🎵 배경 음악을 영상에 추가합니다...\")\n",
        "    command = [\n",
        "        'ffmpeg', '-y', '-i', silent_video_path, '-i', music_path,\n",
        "        '-c:v', 'copy',\n",
        "        '-c:a', 'aac',\n",
        "        '-shortest',\n",
        "        final_output_path\n",
        "    ]\n",
        "    run_ffmpeg(command)"
      ],
      "metadata": {
        "id": "tf38KgTXbv3F"
      },
      "execution_count": null,
      "outputs": []
    },
    {
      "cell_type": "code",
      "source": [
        "# ------------------------------------------------------------------------------\n",
        "# [셀 4] 메인 파이프라인 실행 (이 셀을 실행하여 전체 프로세스 시작)\n",
        "# ------------------------------------------------------------------------------\n",
        "\n",
        "if __name__ == \"__main__\":\n",
        "    if os.path.exists(TEMP_DIR): shutil.rmtree(TEMP_DIR)\n",
        "    os.makedirs(TEMP_DIR)\n",
        "\n",
        "    image_files = sorted(glob.glob(os.path.join(IMAGE_FOLDER, '*.jpeg')))\n",
        "    music_files = os.listdir(MUSIC_FOLDER)\n",
        "\n",
        "    if len(image_files) < 2:\n",
        "        print(f\"❗️'{IMAGE_FOLDER}' 폴더에 최소 2개 이상의 .jpeg 파일이 필요합니다.\")\n",
        "    elif not music_files:\n",
        "        print(f\"❗️'{MUSIC_FOLDER}' 폴더에 음악 파일이 없습니다.\")\n",
        "    else:\n",
        "        try:\n",
        "            # 1. AI 영상 계획 수립\n",
        "            plan = get_ai_creative_plan(image_files)\n",
        "            if not plan:\n",
        "                raise Exception(\"AI로부터 영상 계획을 받아오지 못했습니다.\")\n",
        "\n",
        "            video_title = plan.get('title', \"AI Title Failed\")\n",
        "            transitions = plan.get('transitions', ['fade'] * (len(image_files) - 1))\n",
        "            music_description = plan.get('music_style_description', \"\")\n",
        "\n",
        "            print(\"\\n\" + \"=\"*50)\n",
        "            print(\"📊 AI 영상 제작 계획:\")\n",
        "            print(f\"  - 제목: {video_title}\")\n",
        "            print(f\"  - 전환 효과: {', '.join(transitions)}\")\n",
        "            print(f\"  - 추천 음악 스타일: '{music_description}'\")\n",
        "            print(\"=\"*50 + \"\\n\")\n",
        "\n",
        "            # 2. AI가 로컬 음악 라이브러리에서 최적의 곡 선택\n",
        "            chosen_music_path = choose_music_with_ai(music_files, music_description)\n",
        "\n",
        "            # 3. 무음 영상 제작\n",
        "            final_silent_video = create_silent_video(image_files, transitions)\n",
        "\n",
        "            # 4. 음악 추가하여 최종 영상 완성\n",
        "            add_music_to_video(final_silent_video, chosen_music_path, OUTPUT_VIDEO)\n",
        "\n",
        "            # 5. 최종 결과 출력\n",
        "            print(\"\\n🎉 최종 영상 생성 완료! 🎉\")\n",
        "            print(f\"💾 저장된 파일: {OUTPUT_VIDEO}\")\n",
        "            print(\"왼쪽 파일 탐색기에서 새로고침하여 확인 후 다운로드할 수 있습니다.\")\n",
        "\n",
        "        except Exception as e:\n",
        "            print(f\"\\n💥 최종 프로세스 중단: {e}\")\n",
        "        finally:\n",
        "            print(\"🧹 임시 파일을 정리합니다.\")\n",
        "            if os.path.exists(TEMP_DIR):\n",
        "                shutil.rmtree(TEMP_DIR)"
      ],
      "metadata": {
        "colab": {
          "base_uri": "https://localhost:8080/",
          "height": 358
        },
        "id": "jbh17TIlbxhe",
        "outputId": "dcb7f20e-0b23-4449-aad4-4fbd22f3f2c4"
      },
      "execution_count": null,
      "outputs": [
        {
          "output_type": "stream",
          "name": "stdout",
          "text": [
            "🤖 AI가 이미지를 분석하여 영상 계획을 생성합니다...\n",
            "\n",
            "==================================================\n",
            "📊 AI 영상 제작 계획:\n",
            "  - 제목: Gangneung Moments\n",
            "  - 전환 효과: fade, slideup, slideright, dissolve\n",
            "  - 추천 음악 스타일: 'An upbeat, breezy indie pop track with acoustic elements and a positive, summery vibe. The melody should be light and cheerful, perfect for capturing the feeling of a fun beach vacation. Include some electronic elements, like synth pads or light percussion, to add a modern touch.'\n",
            "==================================================\n",
            "\n",
            "🎶 AI가 음악 라이브러리에서 가장 어울리는 곡을 선택합니다...\n",
            "   - AI 선택: summer-bliss-vacation-travel-vlog-music-367117.mp3\n",
            "🎬 무음 영상 제작을 시작합니다...\n",
            "🎵 배경 음악을 영상에 추가합니다...\n",
            "\n",
            "🎉 최종 영상 생성 완료! 🎉\n",
            "💾 저장된 파일: output_shorts_final.mp4\n",
            "왼쪽 파일 탐색기에서 새로고침하여 확인 후 다운로드할 수 있습니다.\n",
            "🧹 임시 파일을 정리합니다.\n"
          ]
        }
      ]
    },
    {
      "cell_type": "code",
      "source": [],
      "metadata": {
        "id": "xBtc_7jtbzFx"
      },
      "execution_count": null,
      "outputs": []
    }
  ]
}