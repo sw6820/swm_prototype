{
  "nbformat": 4,
  "nbformat_minor": 0,
  "metadata": {
    "colab": {
      "provenance": [],
      "authorship_tag": "ABX9TyMvGDqP6pu0lv2mu5CsWhGO",
      "include_colab_link": true
    },
    "kernelspec": {
      "name": "python3",
      "display_name": "Python 3"
    },
    "language_info": {
      "name": "python"
    }
  },
  "cells": [
    {
      "cell_type": "markdown",
      "metadata": {
        "id": "view-in-github",
        "colab_type": "text"
      },
      "source": [
        "<a href=\"https://colab.research.google.com/github/sw6820/swm_prototype/blob/main/oddiya_langchain_prototype.ipynb\" target=\"_parent\"><img src=\"https://colab.research.google.com/assets/colab-badge.svg\" alt=\"Open In Colab\"/></a>"
      ]
    },
    {
      "cell_type": "code",
      "execution_count": null,
      "metadata": {
        "colab": {
          "base_uri": "https://localhost:8080/"
        },
        "id": "INDXjQO8I65m",
        "outputId": "98b1e3ea-d494-4388-9547-7202816597a9"
      },
      "outputs": [
        {
          "output_type": "stream",
          "name": "stdout",
          "text": [
            "✅ Libraries installed. You can now run the next cell.\n"
          ]
        }
      ],
      "source": [
        "# =======================================================================\n",
        "#  CELL 1: SETUP - INSTALL LIBRARIES\n",
        "# =======================================================================\n",
        "!pip install -qU langchain langchain-google-genai>=0.11.0 googlemaps google-generativeai>=0.8.5\n",
        "\n",
        "print(\"✅ Libraries installed. You can now run the next cell.\")"
      ]
    },
    {
      "cell_type": "code",
      "source": [],
      "metadata": {
        "id": "kgbLZyJwJLPS"
      },
      "execution_count": null,
      "outputs": []
    },
    {
      "cell_type": "code",
      "metadata": {
        "colab": {
          "base_uri": "https://localhost:8080/"
        },
        "id": "d9d5b214",
        "outputId": "24d19135-45cd-4b00-a32a-2754bf3bf9b1"
      },
      "source": [
        "# =======================================================================\n",
        "#  CELL 2: IMPORTS & API KEY CONFIGURATION\n",
        "# =======================================================================\n",
        "import os\n",
        "from google.colab import userdata\n",
        "\n",
        "# LangChain specific imports\n",
        "from langchain_google_genai import ChatGoogleGenerativeAI\n",
        "from langchain_core.prompts import ChatPromptTemplate\n",
        "from langchain_core.output_parsers import PydanticOutputParser\n",
        "from langchain_core.pydantic_v1 import BaseModel, Field\n",
        "from typing import List\n",
        "\n",
        "# --- API Key Configuration ---\n",
        "try:\n",
        "    # Get Gemini API Key\n",
        "    os.environ[\"GOOGLE_API_KEY\"] = userdata.get('GOOGLE_API_KEY')\n",
        "    print(\"✅ Google Gemini API Key configured successfully.\")\n",
        "except Exception as e:\n",
        "    print(f\"🚨 SECRET NOT FOUND or other error: {e}. Please ensure 'GOOGLE_API_KEY' is set in Colab Secrets.\")"
      ],
      "execution_count": null,
      "outputs": [
        {
          "output_type": "stream",
          "name": "stderr",
          "text": [
            "/usr/local/lib/python3.11/dist-packages/IPython/core/interactiveshell.py:3553: LangChainDeprecationWarning: As of langchain-core 0.3.0, LangChain uses pydantic v2 internally. The langchain_core.pydantic_v1 module was a compatibility shim for pydantic v1, and should no longer be used. Please update the code to import from Pydantic directly.\n",
            "\n",
            "For example, replace imports like: `from langchain_core.pydantic_v1 import BaseModel`\n",
            "with: `from pydantic import BaseModel`\n",
            "or the v1 compatibility namespace if you are working in a code base that has not been fully upgraded to pydantic 2 yet. \tfrom pydantic.v1 import BaseModel\n",
            "\n",
            "  exec(code_obj, self.user_global_ns, self.user_ns)\n"
          ]
        },
        {
          "output_type": "stream",
          "name": "stdout",
          "text": [
            "✅ Google Gemini API Key configured successfully.\n"
          ]
        }
      ]
    },
    {
      "cell_type": "code",
      "source": [
        "# =======================================================================\n",
        "#  CELL 3: BACKEND - REVISED DATA STRUCTURES\n",
        "# =======================================================================\n",
        "# REVISION: The descriptions now clarify that only the VALUE should be in Korean.\n",
        "\n",
        "class GenerativeActivity(BaseModel):\n",
        "    name: str = Field(description=\"The name of the recommended place. The value for this key MUST be in Korean (한국어).\")\n",
        "    description: str = Field(description=\"A brief description of the activity. The value for this key MUST be in Korean (한국어).\")\n",
        "\n",
        "class DailyGenerativePlan(BaseModel):\n",
        "    day_number: int = Field(description=\"The day number for this plan (e.g., 1, 2).\")\n",
        "    city: str = Field(description=\"The city for this plan. The value for this key MUST be in Korean (한국어).\")\n",
        "    theme_of_the_day: str = Field(description=\"A fun theme for the day. The value for this key MUST be in Korean (한국어).\")\n",
        "    morning_activity: GenerativeActivity = Field(description=\"The morning activity. Its content must be in Korean.\")\n",
        "    afternoon_activity: GenerativeActivity = Field(description=\"The afternoon activity. Its content must be in Korean.\")\n",
        "\n",
        "class FullTripPlan(BaseModel):\n",
        "    \"\"\"The complete, structured set of generated recommendations for the trip.\"\"\"\n",
        "    plans: List[DailyGenerativePlan]\n",
        "\n",
        "# This object will automatically parse the LLM's raw text output.\n",
        "parser = PydanticOutputParser(pydantic_object=FullTripPlan)\n",
        "\n",
        "print(\"✅ 백엔드 데이터 구조 및 파서 업데이트 완료 (키/값 언어 분리).\")"
      ],
      "metadata": {
        "colab": {
          "base_uri": "https://localhost:8080/"
        },
        "id": "AYRRfCo8Jr_L",
        "outputId": "55d2b9b8-c08d-472f-8e3c-5945132a245d"
      },
      "execution_count": null,
      "outputs": [
        {
          "output_type": "stream",
          "name": "stdout",
          "text": [
            "✅ 백엔드 데이터 구조 및 파서 업데이트 완료 (키/값 언어 분리).\n"
          ]
        }
      ]
    },
    {
      "cell_type": "code",
      "source": [
        "# =======================================================================\n",
        "#  CELL 4: BACKEND - HIGH-PRECISION LANGCHAIN PROMPT\n",
        "# =======================================================================\n",
        "# REVISION: The prompt now makes a critical distinction between JSON keys and values.\n",
        "\n",
        "generative_prompt_template = ChatPromptTemplate.from_messages([\n",
        "    (\"system\", \"You are a travel planner for families. Your task is to generate a JSON object that strictly follows the provided schema. \"\n",
        "               \"It is critical that you follow these two rules:\\n\"\n",
        "               \"1. The JSON 'keys' (like 'plans', 'day_number', 'city', 'theme_of_the_day', 'morning_activity', 'afternoon_activity', 'name', 'description') MUST be in English, exactly as provided in the schema.\\n\"\n",
        "               \"2. The JSON 'values' (the actual content like the theme, descriptions, and place names) MUST be written in Korean (한국어).\\n\"\n",
        "               \"Do not translate the keys. Only translate the content. Ensure the JSON output strictly adheres to the FullTripPlan schema, using only the specified keys and nested structure. Do NOT include extraneous keys like 'plan_details' or 'time'.\"),\n",
        "    (\"human\", \"Please generate a complete {num_days}-day trip itinerary for {city}. \"\n",
        "              \"Remember: Keep the JSON structure and keys in English, but write all the descriptive text content in Korean (한국어).\\n\"\n",
        "              \"{format_instructions}\")\n",
        "])\n",
        "\n",
        "# Initialize the Gemini model. A slightly lower temperature can help with following rules.\n",
        "llm = ChatGoogleGenerativeAI(model=\"gemini-1.5-flash-latest\", temperature=0.7)\n",
        "\n",
        "# Chain the prompt, model, and parser together.\n",
        "generative_chain = generative_prompt_template | llm | parser\n",
        "\n",
        "print(\"✅ 생성형 추천 체인 정밀도 향상 완료.\")"
      ],
      "metadata": {
        "colab": {
          "base_uri": "https://localhost:8080/"
        },
        "id": "0H1Ge_ruKP5j",
        "outputId": "ed05ebba-eca3-499a-be28-c663156ad7a9"
      },
      "execution_count": null,
      "outputs": [
        {
          "output_type": "stream",
          "name": "stdout",
          "text": [
            "✅ 생성형 추천 체인 정밀도 향상 완료.\n"
          ]
        }
      ]
    },
    {
      "cell_type": "markdown",
      "source": [
        "# =======================================================================\n",
        "#  CELL 5: DEFINE INPUT & RUN THE ENGINE\n",
        "# =======================================================================\n",
        "\n",
        "# --- 여기에 입력을 수정하세요 ---\n",
        "trip_plan = {\n",
        "    \"서울\": 2,\n",
        "    \"부산\": 2\n",
        "}\n",
        "# --------------------------------\n",
        "\n",
        "print(\"===================================================\")\n",
        "print(\" G.O.A.T. 생성형 엔진 (콘솔 모드) \")\n",
        "print(\"===================================================\")\n",
        "print(f\"\\n여행 계획: {trip_plan}\")\n",
        "\n",
        "all_plans = []\n",
        "full_day_counter = 1\n",
        "\n",
        "# Iterate through the user-defined trip plan\n",
        "for city, num_days in trip_plan.items():\n",
        "    print(f\"\\n[엔진] {city}를 위한 {num_days}일 계획을 Gemini에게 요청 중...\")\n",
        "\n",
        "    try:\n",
        "        # Prepare the input for the LangChain chain\n",
        "        chain_input = {\n",
        "            \"city\": city,\n",
        "            \"num_days\": num_days,\n",
        "            \"format_instructions\": parser.get_format_instructions(),\n",
        "        }\n",
        "        # Invoke the chain to get the structured result\n",
        "        result = generative_chain.invoke(chain_input)\n",
        "\n",
        "        # Process and number the days sequentially for the whole trip\n",
        "        for plan in result.plans:\n",
        "            plan.day_number = full_day_counter\n",
        "            all_plans.append(plan)\n",
        "            full_day_counter += 1\n",
        "\n",
        "    except Exception as e:\n",
        "        print(f\"[오류] {city} 추천 생성 중 오류 발생: {e}\")\n",
        "\n",
        "# --- 최종 결과를 콘솔에 출력 ---\n",
        "print(\"\\n\\n===================================================\")\n",
        "print(\"          ✨ 최종 생성된 여행 계획 ✨\")\n",
        "print(\"===================================================\")\n",
        "\n",
        "if not all_plans:\n",
        "    print(\"\\n생성된 계획이 없습니다.\")\n",
        "else:\n",
        "    for day_plan in all_plans:\n",
        "        print(\"\\n---------------------------------------------------\")\n",
        "        print(f\"  {day_plan.day_number}일차: {day_plan.city}에서의 '{day_plan.theme_of_the_day}'\")\n",
        "        print(\"---------------------------------------------------\")\n",
        "\n",
        "        morning = day_plan.morning_activity\n",
        "        print(f\"\\n  🌅 오전: {morning.name}\")\n",
        "        print(f\"  👉 {morning.description}\")\n",
        "\n",
        "        afternoon = day_plan.afternoon_activity\n",
        "        print(f\"\\n  ☀️ 오후: {afternoon.name}\")\n",
        "        print(f\"  👉 {afternoon.description}\")\n",
        "\n",
        "print(\"\\n\\n===================================================\")\n",
        "print(\"           [엔진 실행 완료]\")\n",
        "print(\"===================================================\")"
      ],
      "metadata": {
        "id": "xd0zc9vbKQ-1"
      }
    },
    {
      "cell_type": "code",
      "source": [],
      "metadata": {
        "id": "Cp5ezp4KKSSr"
      },
      "execution_count": null,
      "outputs": []
    }
  ]
}