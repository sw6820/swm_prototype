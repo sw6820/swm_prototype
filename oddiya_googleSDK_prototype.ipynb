{
  "nbformat": 4,
  "nbformat_minor": 0,
  "metadata": {
    "colab": {
      "provenance": [],
      "authorship_tag": "ABX9TyPgzuAI/CZjXjxhXK9CfkQU",
      "include_colab_link": true
    },
    "kernelspec": {
      "name": "python3",
      "display_name": "Python 3"
    },
    "language_info": {
      "name": "python"
    }
  },
  "cells": [
    {
      "cell_type": "markdown",
      "metadata": {
        "id": "view-in-github",
        "colab_type": "text"
      },
      "source": [
        "<a href=\"https://colab.research.google.com/github/sw6820/swm_prototype/blob/main/oddiya_googleSDK_prototype.ipynb\" target=\"_parent\"><img src=\"https://colab.research.google.com/assets/colab-badge.svg\" alt=\"Open In Colab\"/></a>"
      ]
    },
    {
      "cell_type": "code",
      "execution_count": null,
      "metadata": {
        "colab": {
          "base_uri": "https://localhost:8080/"
        },
        "id": "G0uTWBx9ZUog",
        "outputId": "6b1505f5-53e1-43b6-a90e-cda6869937ab"
      },
      "outputs": [
        {
          "output_type": "stream",
          "name": "stdout",
          "text": [
            "✅ 라이브러리 설치 완료. (Google SDK 버전)\n"
          ]
        }
      ],
      "source": [
        "# =======================================================================\n",
        "#  CELL 1: SETUP - INSTALL LIBRARIES\n",
        "# =======================================================================\n",
        "# We now use the official Google SDK instead of LangChain's wrapper.\n",
        "!pip install -qU google-generativeai pydantic\n",
        "\n",
        "print(\"✅ 라이브러리 설치 완료. (Google SDK 버전)\")"
      ]
    },
    {
      "cell_type": "markdown",
      "source": [
        "# =======================================================================\n",
        "#  CELL 2: IMPORTS & API KEY CONFIGURATION\n",
        "# =======================================================================\n",
        "import os\n",
        "import json\n",
        "import google.generativeai as genai\n",
        "from google.colab import userdata\n",
        "\n",
        "# Pydantic is still used for data validation.\n",
        "from pydantic import BaseModel, Field\n",
        "from typing import List\n",
        "\n",
        "# --- API Key Configuration ---\n",
        "try:\n",
        "    # Configure the Google SDK with the API key\n",
        "    genai.configure(api_key=userdata.get('GOOGLE_API_KEY'))\n",
        "    print(\"✅ Google Generative AI SDK 설정 완료.\")\n",
        "except Exception as e:\n",
        "    print(f\"🚨 SECRET NOT FOUND 또는 다른 오류 발생: {e}. Colab Secrets에서 'GOOGLE_API_KEY'를 설정했는지 확인하세요.\")"
      ],
      "metadata": {
        "id": "sQOMFXENZaAv"
      }
    },
    {
      "cell_type": "code",
      "source": [
        "# =======================================================================\n",
        "#  CELL 3: BACKEND - DEFINE DATA STRUCTURES\n",
        "# =======================================================================\n",
        "# NOTE: These Pydantic models are the same. They are our data contract.\n",
        "\n",
        "class GenerativeActivity(BaseModel):\n",
        "    name: str = Field(description=\"The name of the activity. The value MUST be in Korean (한국어).\")\n",
        "    time: str = Field(description=\"The suggested time for the activity (e.g., '오전 9시 - 11시'). The value MUST be in Korean (한국어).\")\n",
        "    description: str = Field(description=\"A brief description of the activity. The value MUST be in Korean (한국어).\")\n",
        "\n",
        "class DailyGenerativePlan(BaseModel):\n",
        "    day_number: int = Field(description=\"The day number for this plan (e.g., 1, 2).\")\n",
        "    city: str = Field(description=\"The city for this plan. The value for this key MUST be in Korean (한국어).\")\n",
        "    theme_of_the_day: str = Field(description=\"A fun theme for the day. The value for this key MUST be in Korean (한국어).\")\n",
        "    activities: List[GenerativeActivity] = Field(description=\"A list of activities planned for the day.\")\n",
        "\n",
        "class FullTripPlan(BaseModel):\n",
        "    \"\"\"The complete, structured set of generated recommendations for the trip.\"\"\"\n",
        "    plans: List[DailyGenerativePlan]\n",
        "\n",
        "print(\"✅ 백엔드 데이터 구조 정의 완료.\")"
      ],
      "metadata": {
        "colab": {
          "base_uri": "https://localhost:8080/"
        },
        "id": "uivQzrk2Zlfj",
        "outputId": "f8d3c201-2303-456f-d34e-1663f014f70f"
      },
      "execution_count": null,
      "outputs": [
        {
          "output_type": "stream",
          "name": "stdout",
          "text": [
            "✅ 백엔드 데이터 구조 정의 완료.\n"
          ]
        }
      ]
    },
    {
      "cell_type": "code",
      "source": [
        "# =======================================================================\n",
        "#  CELL 4: BACKEND - MODEL AND PROMPT DEFINITION\n",
        "# =======================================================================\n",
        "# We instantiate the model directly from the Google SDK.\n",
        "model = genai.GenerativeModel('gemini-1.5-flash-latest')\n",
        "\n",
        "# We create the prompt manually. Note how we now describe the JSON structure in plain text,\n",
        "# as we don't have LangChain's parser to do it for us.\n",
        "def create_prompt(city: str, num_days: int) -> str:\n",
        "    # This function creates the detailed prompt that the model will receive.\n",
        "    return f\"\"\"\n",
        "You are an expert travel planner for families. Your task is to generate a JSON object that represents a travel plan.\n",
        "\n",
        "**Critical Rules:**\n",
        "1. The entire output must be a single, valid JSON object.\n",
        "2. The JSON **keys** (like \"plans\", \"city\", \"activities\", \"name\", \"time\", \"description\") MUST be in English.\n",
        "3. The JSON **values** (the actual content like the theme, descriptions, and place names) MUST be written in Korean (한국어).\n",
        "\n",
        "**JSON Schema to follow:**\n",
        "{{\n",
        "  \"plans\": [\n",
        "    {{\n",
        "      \"day_number\": integer,\n",
        "      \"city\": string (must be in Korean),\n",
        "      \"theme_of_the_day\": string (must be in Korean),\n",
        "      \"activities\": [\n",
        "        {{\n",
        "          \"name\": string (must be in Korean),\n",
        "          \"time\": string (e.g., \"오전 9시 - 11시\"),\n",
        "          \"description\": string (must be in Korean)\n",
        "        }}\n",
        "      ]\n",
        "    }}\n",
        "  ]\n",
        "}}\n",
        "\n",
        "**Request:**\n",
        "Please generate a complete {num_days}-day trip itinerary for the city of **{city}**.\n",
        "\"\"\"\n",
        "\n",
        "print(\"✅ Google SDK 모델 및 프롬프트 생성 함수 준비 완료.\")"
      ],
      "metadata": {
        "colab": {
          "base_uri": "https://localhost:8080/"
        },
        "id": "YANz3zufZpMO",
        "outputId": "a1518940-b541-4c3c-c66d-f2418115517b"
      },
      "execution_count": null,
      "outputs": [
        {
          "output_type": "stream",
          "name": "stdout",
          "text": [
            "✅ Google SDK 모델 및 프롬프트 생성 함수 준비 완료.\n"
          ]
        }
      ]
    },
    {
      "cell_type": "code",
      "source": [
        "# =======================================================================\n",
        "#  CELL 5: DEFINE INPUT & RUN THE ENGINE (Google SDK Version)\n",
        "# =======================================================================\n",
        "\n",
        "# --- 여기에 입력을 수정하세요 ---\n",
        "trip_plan = {\n",
        "    \"파리\": 2,\n",
        "    \"로마\": 2\n",
        "}\n",
        "# --------------------------------\n",
        "\n",
        "# This tells the Gemini API to directly output a JSON string.\n",
        "generation_config = genai.GenerationConfig(response_mime_type=\"application/json\")\n",
        "\n",
        "print(\"===================================================\")\n",
        "print(\" G.O.A.T. 생성형 엔진 (Google SDK 직접 호출) \")\n",
        "print(\"===================================================\")\n",
        "print(f\"\\n여행 계획: {trip_plan}\")\n",
        "\n",
        "all_plans = []\n",
        "full_day_counter = 1\n",
        "\n",
        "# Iterate through the user-defined trip plan\n",
        "for city, num_days in trip_plan.items():\n",
        "    print(f\"\\n[엔진] {city}를 위한 {num_days}일 계획을 Gemini에게 요청 중...\")\n",
        "\n",
        "    try:\n",
        "        # Create the specific prompt for this city and number of days\n",
        "        prompt = create_prompt(city, num_days)\n",
        "\n",
        "        # Call the model using the native SDK\n",
        "        response = model.generate_content(prompt, generation_config=generation_config)\n",
        "\n",
        "        # Manually parse the JSON string from the model's response\n",
        "        response_json = json.loads(response.text)\n",
        "\n",
        "        # Manually validate the data against our Pydantic model\n",
        "        # This replaces LangChain's OutputParser\n",
        "        result = FullTripPlan.model_validate(response_json)\n",
        "\n",
        "        # Process and number the days sequentially for the whole trip\n",
        "        for plan in result.plans:\n",
        "            plan.day_number = full_day_counter\n",
        "            all_plans.append(plan)\n",
        "            full_day_counter += 1\n",
        "\n",
        "    except Exception as e:\n",
        "        print(f\"[오류] {city} 추천 생성 중 오류 발생: {e}\")\n",
        "        # If there's an error, print the raw response for debugging\n",
        "        if 'response' in locals():\n",
        "            print(f\"--- RAW MODEL OUTPUT ---\\n{response.text}\\n------------------------\")\n",
        "\n",
        "\n",
        "# --- 최종 결과를 콘솔에 출력 ---\n",
        "print(\"\\n\\n===================================================\")\n",
        "print(\"          ✨ 최종 생성된 여행 계획 ✨\")\n",
        "print(\"===================================================\")\n",
        "\n",
        "if not all_plans:\n",
        "    print(\"\\n생성된 계획이 없습니다.\")\n",
        "else:\n",
        "    for day_plan in all_plans:\n",
        "        print(\"\\n---------------------------------------------------\")\n",
        "        print(f\"  {day_plan.day_number}일차: {day_plan.city}에서의 '{day_plan.theme_of_the_day}'\")\n",
        "        print(\"---------------------------------------------------\")\n",
        "\n",
        "        for activity in day_plan.activities:\n",
        "            print(f\"\\n  🕒 {activity.time}: {activity.name}\")\n",
        "            print(f\"  👉 {activity.description}\")\n",
        "\n",
        "print(\"\\n\\n===================================================\")\n",
        "print(\"           [엔진 실행 완료]\")\n",
        "print(\"===================================================\")"
      ],
      "metadata": {
        "colab": {
          "base_uri": "https://localhost:8080/",
          "height": 1000
        },
        "id": "AyIeevnoZqds",
        "outputId": "c2c267be-b34f-416d-e90e-a040e03fcfa4"
      },
      "execution_count": null,
      "outputs": [
        {
          "output_type": "stream",
          "name": "stdout",
          "text": [
            "===================================================\n",
            " G.O.A.T. 생성형 엔진 (Google SDK 직접 호출) \n",
            "===================================================\n",
            "\n",
            "여행 계획: {'파리': 2, '로마': 2}\n",
            "\n",
            "[엔진] 파리를 위한 2일 계획을 Gemini에게 요청 중...\n",
            "\n",
            "[엔진] 로마를 위한 2일 계획을 Gemini에게 요청 중...\n",
            "\n",
            "\n",
            "===================================================\n",
            "          ✨ 최종 생성된 여행 계획 ✨\n",
            "===================================================\n",
            "\n",
            "---------------------------------------------------\n",
            "  1일차: 파리에서의 '파리의 명소 탐험'\n",
            "---------------------------------------------------\n",
            "\n",
            "  🕒 오전 9시 - 12시: 에펠탑 방문\n",
            "  👉 에펠탑에 올라 파리 시내의 아름다운 전경을 감상하고, 기념 사진을 찍습니다. 매표소에서 줄이 길 수 있으니 미리 예약하는 것이 좋습니다.\n",
            "\n",
            "  🕒 오후 1시 - 4시: 루브르 박물관 관람\n",
            "  👉 세계적으로 유명한 루브르 박물관에서 모나리자를 비롯한 다양한 예술 작품을 감상합니다.  관람 시간이 길기 때문에 관심 있는 작품 위주로 선택하여 관람하는 것이 좋습니다.  미리 예약하면 줄을 서지 않아도 됩니다.\n",
            "\n",
            "  🕒 오후 5시 - 8시: 센 강변 산책 및 저녁 식사\n",
            "  👉 센 강변을 따라 산책하며 아름다운 파리의 야경을 감상하고, 맛있는 저녁 식사를 합니다. 센 강변에는 다양한 레스토랑이 있으므로 취향에 맞는 곳을 선택할 수 있습니다.\n",
            "\n",
            "---------------------------------------------------\n",
            "  2일차: 파리에서의 '파리 문화 체험'\n",
            "---------------------------------------------------\n",
            "\n",
            "  🕒 오전 9시 - 12시: 몽마르트 언덕 방문 및 거리 화가 관람\n",
            "  👉 몽마르트 언덕에 올라 파리의 전경을 감상하고, 거리 화가들의 작품을 감상합니다.  사크레쾨르 대성당도 방문할 수 있습니다.\n",
            "\n",
            "  🕒 오후 1시 - 5시: 베르사유 궁전 방문\n",
            "  👉 파리 근교에 위치한 베르사유 궁전을 방문하여 화려한 궁전과 정원을 둘러봅니다.  베르사유 궁전은 매우 넓으므로 충분한 시간을 가지고 관람하는 것이 좋습니다. 대중교통 이용을 추천합니다.\n",
            "\n",
            "  🕒 오후 6시 - 9시: 라파예트 백화점 쇼핑 및 저녁 식사\n",
            "  👉 라파예트 백화점에서 쇼핑을 하고, 근처 레스토랑에서 저녁 식사를 합니다.  라파예트 백화점은 다양한 브랜드의 상품을 판매하고 있습니다.\n",
            "\n",
            "---------------------------------------------------\n",
            "  3일차: 로마에서의 '로마의 역사와 문화 탐방'\n",
            "---------------------------------------------------\n",
            "\n",
            "  🕒 오전 9시 - 12시: 콜로세움 & 로마 포럼\n",
            "  👉 고대 로마 제국의 상징인 콜로세움과 로마 제국의 중심지였던 로마 포럼을 방문하여 역사 유적을 둘러보고, 로마 제국의 역사와 문화에 대해 배우는 시간을 가집니다. 아이들에게는 재미있는 역사 이야기를 들려주세요.\n",
            "\n",
            "  🕒 오후 1시 - 2시: 판테온\n",
            "  👉 건축의 경이로움을 보여주는 판테온을 방문하여 아름다운 건축물을 감상하고, 그 역사에 대해 알아봅니다. 아이들에게는 건축물의 특징에 대해 설명해 주세요.\n",
            "\n",
            "  🕒 오후 2시 30분 - 4시 30분: 스페인 광장 & 트레비 분수\n",
            "  👉 로마의 아름다운 광장인 스페인 광장과 로마의 상징적인 분수인 트레비 분수를 방문하여 사진을 찍고, 분위기를 만끽합니다. 아이들에게는 스페인 광장 계단에서 놀 수 있는 시간을 주세요.\n",
            "\n",
            "  🕒 오후 6시 - 7시: 피자 맛집에서 저녁식사\n",
            "  👉 로마의 유명한 피자 맛집에서 맛있는 피자를 즐기며 저녁 식사를 합니다. 아이들이 좋아하는 토핑의 피자를 선택해주세요.\n",
            "\n",
            "---------------------------------------------------\n",
            "  4일차: 로마에서의 '바티칸 시국과 아름다운 정원'\n",
            "---------------------------------------------------\n",
            "\n",
            "  🕒 오전 9시 - 1시: 바티칸 시국 투어 (성 베드로 대성당 & 바티칸 박물관)\n",
            "  👉 가톨릭의 중심지인 바티칸 시국을 방문하여 성 베드로 대성당의 웅장함과 바티칸 박물관의 예술 작품들을 감상합니다. 미리 예약하는 것을 잊지 마세요. 아이들에게는 작품에 대한 재미있는 이야기를 들려주세요.\n",
            "\n",
            "  🕒 오후 2시 - 4시: 보르게세 갤러리 & 정원\n",
            "  👉 베르니니의 조각품 등 아름다운 예술 작품들을 소장하고 있는 보르게세 갤러리를 관람하고, 아름다운 정원에서 산책을 즐기며 휴식을 취합니다. 아이들과 함께 아름다운 정원을 거닐며 사진을 찍어보세요.\n",
            "\n",
            "  🕒 오후 4시 30분 - 5시 30분: 젤라토 즐기기\n",
            "  👉 로마에서 유명한 젤라토를 맛보며 달콤한 시간을 보냅니다. 아이들이 좋아하는 맛을 선택하게 해주세요.\n",
            "\n",
            "  🕒 오후 7시 - 8시: 캄포 데이 피오리 시장 방문 및 저녁식사\n",
            "  👉 로마의 전통 시장인 캄포 데이 피오리 시장을 방문하여 다양한 먹거리와 분위기를 경험하고, 현지 음식으로 저녁 식사를 합니다. 아이들과 함께 시장 구경을 하며 즐거운 시간을 보내세요.\n",
            "\n",
            "\n",
            "===================================================\n",
            "           [엔진 실행 완료]\n",
            "===================================================\n"
          ]
        }
      ]
    },
    {
      "cell_type": "code",
      "source": [],
      "metadata": {
        "id": "juRj3IyQZr7W"
      },
      "execution_count": null,
      "outputs": []
    }
  ]
}