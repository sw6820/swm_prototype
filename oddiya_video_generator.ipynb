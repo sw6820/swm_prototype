{
  "nbformat": 4,
  "nbformat_minor": 0,
  "metadata": {
    "colab": {
      "provenance": [],
      "authorship_tag": "ABX9TyPdA1NvQFHSKw1RIsvjhgFL",
      "include_colab_link": true
    },
    "kernelspec": {
      "name": "python3",
      "display_name": "Python 3"
    },
    "language_info": {
      "name": "python"
    }
  },
  "cells": [
    {
      "cell_type": "markdown",
      "metadata": {
        "id": "view-in-github",
        "colab_type": "text"
      },
      "source": [
        "<a href=\"https://colab.research.google.com/github/sw6820/swm_prototype/blob/main/oddiya_video_generator.ipynb\" target=\"_parent\"><img src=\"https://colab.research.google.com/assets/colab-badge.svg\" alt=\"Open In Colab\"/></a>"
      ]
    },
    {
      "cell_type": "code",
      "source": [
        "# 2. Gemini API 라이브러리 설치\n",
        "!pip install -q google-generativeai"
      ],
      "metadata": {
        "id": "e5NpUYQg2Unw"
      },
      "execution_count": null,
      "outputs": []
    },
    {
      "cell_type": "code",
      "execution_count": null,
      "metadata": {
        "colab": {
          "base_uri": "https://localhost:8080/"
        },
        "id": "zgySb59D2JMc",
        "outputId": "846eec13-b57d-4bb5-b7c6-030c233dd2a1"
      },
      "outputs": [
        {
          "output_type": "stream",
          "name": "stdout",
          "text": [
            "Mounted at /content/drive\n"
          ]
        }
      ],
      "source": [
        "from google.colab import drive\n",
        "drive.mount('/content/drive')"
      ]
    },
    {
      "cell_type": "code",
      "source": [
        "import os\n",
        "import glob\n",
        "import subprocess\n",
        "import shutil\n",
        "import json\n",
        "import google.generativeai as genai\n",
        "from google.colab import userdata\n",
        "\n",
        "# --- 설정 ---\n",
        "# 1. Colab 보안 비밀에서 API 키를 안전하게 가져옵니다.\n",
        "GEMINI_API_KEY = userdata.get('GOOGLE_API_KEY')\n",
        "\n",
        "# 2. 영상의 주제를 간단하게 입력하세요.\n",
        "VIDEO_THEME = \"제주도의 아름다운 풍경과 맛있는 음식들\"\n",
        "\n",
        "# 3. 사진이 저장된 구글 드라이브 폴더 경로\n",
        "image_folder = '/content/drive/MyDrive/images'\n",
        "\n",
        "# 4. 최종적으로 저장될 영상 파일 이름\n",
        "output_video = 'output_shorts_with_effects.mp4'\n",
        "\n",
        "# 5. 영상 속성\n",
        "IMAGE_DURATION = 3\n",
        "TRANSITION_DURATION = 1\n",
        "TARGET_FPS = 30 # 목표 프레임 레이트\n",
        "\n",
        "# 6. AI에게 알려줄 FFmpeg 전환 효과 목록\n",
        "AVAILABLE_TRANSITIONS = [\n",
        "    'fade', 'fadeblack', 'fadewhite', 'distance', 'wipeleft', 'wiperight', 'wipeup', 'wipedown',\n",
        "    'slideleft', 'slideright', 'slideup', 'slidedown', 'circleopen', 'circleclose', 'dissolve',\n",
        "    'pixelize', 'radial', 'diagtl', 'diagtr', 'diagbl', 'diagbr'\n",
        "]\n",
        "\n",
        "# --- 로직 ---\n",
        "print(\"🚀 영상 생성을 시작합니다...\")\n",
        "\n",
        "# Gemini API 설정\n",
        "model = None\n",
        "if GEMINI_API_KEY:\n",
        "    try:\n",
        "        genai.configure(api_key=GEMINI_API_KEY)\n",
        "        model = genai.GenerativeModel('gemini-2.0-flash')\n",
        "        print(\"✅ Gemini API 설정 완료.\")\n",
        "    except Exception as e:\n",
        "        print(f\"❗️ API 설정 중 오류 발생: {e}\")\n",
        "else:\n",
        "    print(\"❗️ Colab 보안 비밀(Secrets)에서 'GOOGLE_API_KEY'를 찾을 수 없습니다.\")\n",
        "\n",
        "# 이미지 파일 목록 가져오기\n",
        "image_files = sorted(glob.glob(os.path.join(image_folder, '*.jpeg')))\n",
        "num_images = len(image_files)\n",
        "\n",
        "if num_images < 2:\n",
        "    print(f\"❗️'{image_folder}' 폴더에 최소 2개 이상의 .jpeg 파일이 필요합니다.\")\n",
        "else:\n",
        "    # AI 콘텐츠 생성\n",
        "    ai_content = {}\n",
        "    if model:\n",
        "        try:\n",
        "            print(\"🤖 AI가 제목과 전환 효과를 생성 중입니다...\")\n",
        "            num_transitions = num_images - 1\n",
        "            prompt = f\"\"\"'{VIDEO_THEME}' 주제의 영상에 사용할 제목과 전환 효과를 추천해줘.\n",
        "            - 전환 효과는 다음 목록에서만 {num_transitions}개를 순서대로 골라줘: {', '.join(AVAILABLE_TRANSITIONS)}\n",
        "            - 답변은 반드시 아래 JSON 형식으로만 해줘:\n",
        "            {{\n",
        "              \"title\": \"Your Title Here\",\n",
        "              \"transitions\": [\"effect1\", \"effect2\", ...]\n",
        "            }}\"\"\"\n",
        "            response = model.generate_content(prompt)\n",
        "            json_str = response.text.strip().split('```json')[1].split('```')[0]\n",
        "            ai_content = json.loads(json_str)\n",
        "            while len(ai_content.get('transitions', [])) < num_transitions:\n",
        "                ai_content.get('transitions', []).append('fade')\n",
        "        except Exception as e:\n",
        "            print(f\"❗️ AI 콘텐츠 생성 중 오류 발생: {e}\")\n",
        "            ai_content = {}\n",
        "\n",
        "    if not ai_content:\n",
        "        video_title = \"My Awesome Slideshow\"\n",
        "        transitions = ['fade'] * (num_images - 1)\n",
        "        print(\"⚠️ AI 콘텐츠 생성에 실패하여 기본 제목과 'fade' 효과를 사용합니다.\")\n",
        "    else:\n",
        "        video_title = ai_content.get('title', \"AI Title Failed\")\n",
        "        transitions = ai_content.get('transitions', ['fade'] * (num_images - 1))\n",
        "\n",
        "    # --- 순차적 영상 생성 로직 ---\n",
        "    temp_dir = \"temp_processing\"\n",
        "    if os.path.exists(temp_dir): shutil.rmtree(temp_dir)\n",
        "    os.makedirs(temp_dir)\n",
        "\n",
        "    try:\n",
        "        # 1. 첫 이미지로 기반 영상 생성\n",
        "        print(\"🎬 1단계: 기반 영상 생성 중...\")\n",
        "        base_video_path = os.path.join(temp_dir, \"step_0.mp4\")\n",
        "        command = [\n",
        "            'ffmpeg', '-y', '-loop', '1', '-t', str(IMAGE_DURATION), '-i', image_files[0],\n",
        "            '-vf', f\"scale=1920:1080:force_original_aspect_ratio=decrease,pad=1920:1080:(ow-iw)/2:(oh-ih)/2,setsar=1,format=yuv420p,fps={TARGET_FPS}\",\n",
        "            '-c:v', 'libx264', '-r', str(TARGET_FPS), base_video_path\n",
        "        ]\n",
        "        subprocess.run(command, check=True, capture_output=True, text=True)\n",
        "\n",
        "        # 2. 나머지 이미지를 순차적으로 합성\n",
        "        for i in range(1, num_images):\n",
        "            print(f\"🎬 {i+1}단계: {i+1}번째 이미지 합성 중 (효과: {transitions[i-1]})...\")\n",
        "            input_video = base_video_path\n",
        "            output_video_temp = os.path.join(temp_dir, f\"step_{i}.mp4\")\n",
        "\n",
        "            video_duration = (i * IMAGE_DURATION) - ((i - 1) * TRANSITION_DURATION)\n",
        "\n",
        "            # ⭐️ 수정된 부분: 새로 들어오는 이미지([1:v])에도 fps 필터를 추가하여 프레임 레이트를 통일시킵니다.\n",
        "            filter_complex_str = (\n",
        "                f\"[0:v]settb=AVTB[v0];\"\n",
        "                f\"[1:v]scale=1920:1080:force_original_aspect_ratio=decrease,pad=1920:1080:(ow-iw)/2:(oh-ih)/2,setsar=1,format=yuv420p,fps={TARGET_FPS},settb=AVTB[v1];\"\n",
        "                f\"[v0][v1]xfade=transition={transitions[i-1]}:duration={TRANSITION_DURATION}:offset={video_duration - TRANSITION_DURATION}\"\n",
        "            )\n",
        "\n",
        "            command = [\n",
        "                'ffmpeg', '-y', '-i', input_video, '-loop', '1', '-t', str(IMAGE_DURATION), '-i', image_files[i],\n",
        "                '-filter_complex', filter_complex_str,\n",
        "                '-c:v', 'libx264', '-r', str(TARGET_FPS), output_video_temp\n",
        "            ]\n",
        "            subprocess.run(command, check=True, capture_output=True, text=True)\n",
        "            base_video_path = output_video_temp\n",
        "\n",
        "        # 3. 최종 결과물을 원하는 파일명으로 복사\n",
        "        shutil.copy(base_video_path, output_video)\n",
        "\n",
        "        print(\"\\n🎉 영상 생성 완료! 🎉\")\n",
        "        print(\"=\"*40)\n",
        "        print(f\"🎬 AI 추천 제목: {video_title}\")\n",
        "        print(f\"✨ 적용된 효과: {', '.join(transitions)}\")\n",
        "        print(f\"💾 저장된 파일: {output_video}\")\n",
        "        print(\"=\"*40)\n",
        "        print(\"왼쪽 파일 탐색기에서 새로고침하여 확인 후 다운로드할 수 있습니다.\")\n",
        "\n",
        "    except subprocess.CalledProcessError as e:\n",
        "        print(\"\\n❗️ FFmpeg 실행 중 오류가 발생했습니다.\")\n",
        "        print(\"--- FFmpeg Command ---\")\n",
        "        print(' '.join(f\"'{arg}'\" if ' ' in arg else arg for arg in command))\n",
        "        print(\"\\n--- FFmpeg Error ---\")\n",
        "        print(e.stderr)\n",
        "    finally:\n",
        "        # 4. 임시 파일 정리\n",
        "        if os.path.exists(temp_dir):\n",
        "            shutil.rmtree(temp_dir)"
      ],
      "metadata": {
        "colab": {
          "base_uri": "https://localhost:8080/",
          "height": 303
        },
        "id": "cGHoAud-2Km-",
        "outputId": "0f6e9f94-41f5-49be-eaac-e454cc90ef36"
      },
      "execution_count": null,
      "outputs": [
        {
          "output_type": "stream",
          "name": "stdout",
          "text": [
            "🚀 영상 생성을 시작합니다...\n",
            "✅ Gemini API 설정 완료.\n",
            "🤖 AI가 제목과 전환 효과를 생성 중입니다...\n",
            "🎬 1단계: 기반 영상 생성 중...\n",
            "🎬 2단계: 2번째 이미지 합성 중 (효과: fade)...\n",
            "🎬 3단계: 3번째 이미지 합성 중 (효과: wipeleft)...\n",
            "🎬 4단계: 4번째 이미지 합성 중 (효과: slideright)...\n",
            "🎬 5단계: 5번째 이미지 합성 중 (효과: dissolve)...\n",
            "\n",
            "🎉 영상 생성 완료! 🎉\n",
            "========================================\n",
            "🎬 AI 추천 제목: 제주, 맛과 멋에 취하다: 눈과 입이 즐거운 제주 여행\n",
            "✨ 적용된 효과: fade, wipeleft, slideright, dissolve\n",
            "💾 저장된 파일: output_shorts_with_effects.mp4\n",
            "========================================\n",
            "왼쪽 파일 탐색기에서 새로고침하여 확인 후 다운로드할 수 있습니다.\n"
          ]
        }
      ]
    },
    {
      "cell_type": "code",
      "source": [
        "\n",
        "# # 1. Gemini API 설정\n",
        "# try:\n",
        "#     genai.configure(api_key=userdata.get('GOOGLE_API_KEY'))\n",
        "#     model = genai.GenerativeModel('gemini-1.5-flash')\n",
        "#     print(\"✅ Gemini API 설정 완료.\")\n",
        "# except Exception as e:\n",
        "#     print(f\"❗️ API 키 설정에 실패했습니다. 키를 확인해주세요: {e}\")\n",
        "#     model = None"
      ],
      "metadata": {
        "colab": {
          "base_uri": "https://localhost:8080/"
        },
        "id": "Ig_jShC92gxO",
        "outputId": "660abbd4-9c97-4830-d9c5-982203cb459f"
      },
      "execution_count": null,
      "outputs": [
        {
          "output_type": "stream",
          "name": "stdout",
          "text": [
            "✅ Gemini API 설정 완료.\n"
          ]
        }
      ]
    },
    {
      "cell_type": "code",
      "source": [
        "# # 2. AI로 영상 제목 생성\n",
        "# video_title = \"제목 생성 실패\"\n",
        "# if model:\n",
        "#     try:\n",
        "#         print(\"🤖 AI가 영상 제목을 생성 중입니다...\")\n",
        "#         prompt = f\"'{VIDEO_THEME}'라는 주제의 쇼츠 영상에 어울리는, 짧고 임팩트 있는 제목 하나만 추천해줘.\"\n",
        "#         response = model.generate_content(prompt)\n",
        "#         video_title = response.text.strip().replace(\"*\", \"\").replace(\"\\\"\", \"\") # 특수문자 제거\n",
        "#     except Exception as e:\n",
        "#         print(f\"❗️ AI 제목 생성 중 오류 발생: {e}\")"
      ],
      "metadata": {
        "colab": {
          "base_uri": "https://localhost:8080/",
          "height": 35
        },
        "id": "CMEe-hDA4qE1",
        "outputId": "9587126c-bc88-439f-d69f-a7bff51d948a"
      },
      "execution_count": null,
      "outputs": [
        {
          "output_type": "stream",
          "name": "stdout",
          "text": [
            "🤖 AI가 영상 제목을 생성 중입니다...\n"
          ]
        }
      ]
    },
    {
      "cell_type": "code",
      "source": [
        "# # 3. 이전 작업 파일이 남아있다면 깨끗하게 정리\n",
        "# if os.path.exists(temp_folder):\n",
        "#     shutil.rmtree(temp_folder)\n",
        "# os.makedirs(temp_folder)"
      ],
      "metadata": {
        "id": "6N1rxosU4sBg"
      },
      "execution_count": null,
      "outputs": []
    },
    {
      "cell_type": "code",
      "source": [
        "# # 4. 지정된 폴더에서 모든 .jpeg 파일 목록을 가져와 정렬\n",
        "# image_files = sorted(glob.glob(os.path.join(image_folder, '*.jpeg')))"
      ],
      "metadata": {
        "id": "lgDNb0h_4uI8"
      },
      "execution_count": null,
      "outputs": []
    },
    {
      "cell_type": "code",
      "source": [
        "\n",
        "# if not image_files:\n",
        "#     print(f\"❗️'{image_folder}' 폴더에 .jpeg 파일이 없습니다. 경로를 확인해주세요.\")\n",
        "# else:\n",
        "#     # 5. FFmpeg가 인식하기 쉽도록 파일을 숫자 순서대로 복사\n",
        "#     for i, file_path in enumerate(image_files):\n",
        "#         shutil.copy(file_path, os.path.join(temp_folder, f\"img{i:03d}.jpeg\"))\n",
        "\n",
        "#     # 6. FFmpeg 명령어를 실행하여 비디오 생성\n",
        "#     command = [\n",
        "#         'ffmpeg',\n",
        "#         '-framerate', '1/2',\n",
        "#         '-i', os.path.join(temp_folder, 'img%03d.jpeg'),\n",
        "#         # ⭐️ 수정된 부분: 홀수 크기 문제를 해결하기 위해 scale 필터 추가\n",
        "#         '-vf', 'scale=trunc(iw/2)*2:trunc(ih/2)*2',\n",
        "#         '-r', '30',\n",
        "#         '-pix_fmt', 'yuv420p',\n",
        "#         '-y',\n",
        "#         output_video\n",
        "#     ]\n",
        "\n",
        "#     try:\n",
        "#         subprocess.run(command, check=True, capture_output=True, text=True)\n",
        "#         print(\"\\n🎉 영상 생성 완료! 🎉\")\n",
        "#         print(\"=\"*30)\n",
        "#         print(f\"🎬 AI 추천 제목: {video_title}\")\n",
        "#         print(f\"💾 저장된 파일: {output_video}\")\n",
        "#         print(\"=\"*30)\n",
        "#         print(\"왼쪽 파일 탐색기에서 새로고침하여 확인 후 다운로드할 수 있습니다.\")\n",
        "#     except subprocess.CalledProcessError as e:\n",
        "#         print(\"\\n❗️ FFmpeg 실행 중 오류가 발생했습니다.\")\n",
        "#         print(e.stderr)\n",
        "\n",
        "#     # 7. 임시 작업 폴더 삭제\n",
        "#     shutil.rmtree(temp_folder)"
      ],
      "metadata": {
        "colab": {
          "base_uri": "https://localhost:8080/"
        },
        "id": "eEi-1T6s4wuH",
        "outputId": "ff94fec4-a6fe-43a0-a11f-237fd02163c3"
      },
      "execution_count": null,
      "outputs": [
        {
          "output_type": "stream",
          "name": "stdout",
          "text": [
            "\n",
            "🎉 영상 생성 완료! 🎉\n",
            "==============================\n",
            "🎬 AI 추천 제목: 여름 친구들과의 추억\n",
            "💾 저장된 파일: output_shorts_with_title.mp4\n",
            "==============================\n",
            "왼쪽 파일 탐색기에서 새로고침하여 확인 후 다운로드할 수 있습니다.\n"
          ]
        }
      ]
    },
    {
      "cell_type": "code",
      "source": [
        "# import os\n",
        "# import glob\n",
        "# import subprocess\n",
        "# import shutil\n",
        "# import google.generativeai as genai\n",
        "# # ⭐️ Colab 보안 비밀(Secrets)을 사용하기 위한 라이브러리\n",
        "# from google.colab import userdata\n",
        "\n",
        "# # --- 설정 ---\n",
        "# # 1. ⭐️ Colab 보안 비밀에서 API 키를 안전하게 가져옵니다.\n",
        "# GEMINI_API_KEY = userdata.get('GEMINI_API_KEY')\n",
        "\n",
        "# # 2. 영상의 주제를 간단하게 입력하세요.\n",
        "# VIDEO_THEME = \"친구들과 함께한 즐거운 여름 휴가\"\n",
        "\n",
        "# # 3. 사진이 저장된 구글 드라이브 폴더 경로\n",
        "# image_folder = '/content/drive/MyDrive/images'\n",
        "\n",
        "# # 4. 영상을 만들기 위한 임시 작업 폴더\n",
        "# temp_folder = '/content/temp_images'\n",
        "\n",
        "# # 5. 최종적으로 저장될 영상 파일 이름\n",
        "# output_video = 'output_shorts_with_title.mp4'\n",
        "\n",
        "\n",
        "# # --- 로직 ---\n",
        "# print(\"🚀 영상 생성을 시작합니다...\")\n",
        "\n",
        "# # 1. Gemini API 설정\n",
        "# model = None\n",
        "# if GEMINI_API_KEY:\n",
        "#     try:\n",
        "#         genai.configure(api_key=GEMINI_API_KEY)\n",
        "#         model = genai.GenerativeModel('gemini-1.5-flash')\n",
        "#         print(\"✅ Gemini API 설정 완료.\")\n",
        "#     except Exception as e:\n",
        "#         print(f\"❗️ API 설정 중 오류 발생: {e}\")\n",
        "# else:\n",
        "#     print(\"❗️ Colab 보안 비밀(Secrets)에서 'GEMINI_API_KEY'를 찾을 수 없습니다.\")\n",
        "\n",
        "\n",
        "# # 2. AI로 영상 제목 생성\n",
        "# video_title = \"제목 생성 실패\"\n",
        "# if model:\n",
        "#     try:\n",
        "#         print(\"🤖 AI가 영상 제목을 생성 중입니다...\")\n",
        "#         prompt = f\"'{VIDEO_THEME}'라는 주제의 쇼츠 영상에 어울리는, 짧고 임팩트 있는 제목 하나만 추천해줘.\"\n",
        "#         response = model.generate_content(prompt)\n",
        "#         video_title = response.text.strip().replace(\"*\", \"\").replace(\"\\\"\", \"\")\n",
        "#     except Exception as e:\n",
        "#         print(f\"❗️ AI 제목 생성 중 오류 발생: {e}\")\n",
        "\n",
        "# # 3. 이전 작업 파일이 남아있다면 깨끗하게 정리\n",
        "# if os.path.exists(temp_folder):\n",
        "#     shutil.rmtree(temp_folder)\n",
        "# os.makedirs(temp_folder)\n",
        "\n",
        "# # 4. 지정된 폴더에서 모든 .jpeg 파일 목록을 가져와 정렬\n",
        "# image_files = sorted(glob.glob(os.path.join(image_folder, '*.jpeg')))\n",
        "\n",
        "# if not image_files:\n",
        "#     print(f\"❗️'{image_folder}' 폴더에 .jpeg 파일이 없습니다. 경로를 확인해주세요.\")\n",
        "# else:\n",
        "#     # 5. FFmpeg가 인식하기 쉽도록 파일을 숫자 순서대로 복사\n",
        "#     for i, file_path in enumerate(image_files):\n",
        "#         shutil.copy(file_path, os.path.join(temp_folder, f\"img{i:03d}.jpeg\"))\n",
        "\n",
        "#     # 6. FFmpeg 명령어를 실행하여 비디오 생성\n",
        "#     command = [\n",
        "#         'ffmpeg', '-framerate', '1/2', '-i', os.path.join(temp_folder, 'img%03d.jpeg'),\n",
        "#         '-vf', 'scale=trunc(iw/2)*2:trunc(ih/2)*2', '-r', '30',\n",
        "#         '-pix_fmt', 'yuv420p', '-y', output_video\n",
        "#     ]\n",
        "\n",
        "#     try:\n",
        "#         subprocess.run(command, check=True, capture_output=True, text=True)\n",
        "#         print(\"\\n🎉 영상 생성 완료! 🎉\")\n",
        "#         print(\"=\"*30)\n",
        "#         print(f\"🎬 AI 추천 제목: {video_title}\")\n",
        "#         print(f\"💾 저장된 파일: {output_video}\")\n",
        "#         print(\"=\"*30)\n",
        "#         print(\"왼쪽 파일 탐색기에서 새로고침하여 확인 후 다운로드할 수 있습니다.\")\n",
        "#     except subprocess.CalledProcessError as e:\n",
        "#         print(\"\\n❗️ FFmpeg 실행 중 오류가 발생했습니다.\")\n",
        "#         print(e.stderr)\n",
        "\n",
        "#     # 7. 임시 작업 폴더 삭제\n",
        "#     shutil.rmtree(temp_folder)"
      ],
      "metadata": {
        "colab": {
          "base_uri": "https://localhost:8080/",
          "height": 394
        },
        "id": "1ahPrtVx40o6",
        "outputId": "640eefd4-5fa6-4835-a876-adc3c645460b"
      },
      "execution_count": null,
      "outputs": [
        {
          "output_type": "error",
          "ename": "SecretNotFoundError",
          "evalue": "Secret GEMINI_API_KEY does not exist.",
          "traceback": [
            "\u001b[0;31m---------------------------------------------------------------------------\u001b[0m",
            "\u001b[0;31mSecretNotFoundError\u001b[0m                       Traceback (most recent call last)",
            "\u001b[0;32m/tmp/ipython-input-21-3474785262.py\u001b[0m in \u001b[0;36m<cell line: 0>\u001b[0;34m()\u001b[0m\n\u001b[1;32m      9\u001b[0m \u001b[0;31m# --- 설정 ---\u001b[0m\u001b[0;34m\u001b[0m\u001b[0;34m\u001b[0m\u001b[0m\n\u001b[1;32m     10\u001b[0m \u001b[0;31m# 1. ⭐️ Colab 보안 비밀에서 API 키를 안전하게 가져옵니다.\u001b[0m\u001b[0;34m\u001b[0m\u001b[0;34m\u001b[0m\u001b[0m\n\u001b[0;32m---> 11\u001b[0;31m \u001b[0mGEMINI_API_KEY\u001b[0m \u001b[0;34m=\u001b[0m \u001b[0muserdata\u001b[0m\u001b[0;34m.\u001b[0m\u001b[0mget\u001b[0m\u001b[0;34m(\u001b[0m\u001b[0;34m'GEMINI_API_KEY'\u001b[0m\u001b[0;34m)\u001b[0m\u001b[0;34m\u001b[0m\u001b[0;34m\u001b[0m\u001b[0m\n\u001b[0m\u001b[1;32m     12\u001b[0m \u001b[0;34m\u001b[0m\u001b[0m\n\u001b[1;32m     13\u001b[0m \u001b[0;31m# 2. 영상의 주제를 간단하게 입력하세요.\u001b[0m\u001b[0;34m\u001b[0m\u001b[0;34m\u001b[0m\u001b[0m\n",
            "\u001b[0;32m/usr/local/lib/python3.11/dist-packages/google/colab/userdata.py\u001b[0m in \u001b[0;36mget\u001b[0;34m(key)\u001b[0m\n\u001b[1;32m     66\u001b[0m     \u001b[0;32mraise\u001b[0m \u001b[0mTimeoutException\u001b[0m\u001b[0;34m(\u001b[0m\u001b[0mkey\u001b[0m\u001b[0;34m)\u001b[0m\u001b[0;34m\u001b[0m\u001b[0;34m\u001b[0m\u001b[0m\n\u001b[1;32m     67\u001b[0m   \u001b[0;32mif\u001b[0m \u001b[0;32mnot\u001b[0m \u001b[0mresp\u001b[0m\u001b[0;34m.\u001b[0m\u001b[0mget\u001b[0m\u001b[0;34m(\u001b[0m\u001b[0;34m'exists'\u001b[0m\u001b[0;34m,\u001b[0m \u001b[0;32mFalse\u001b[0m\u001b[0;34m)\u001b[0m\u001b[0;34m:\u001b[0m\u001b[0;34m\u001b[0m\u001b[0;34m\u001b[0m\u001b[0m\n\u001b[0;32m---> 68\u001b[0;31m     \u001b[0;32mraise\u001b[0m \u001b[0mSecretNotFoundError\u001b[0m\u001b[0;34m(\u001b[0m\u001b[0mkey\u001b[0m\u001b[0;34m)\u001b[0m\u001b[0;34m\u001b[0m\u001b[0;34m\u001b[0m\u001b[0m\n\u001b[0m\u001b[1;32m     69\u001b[0m   \u001b[0;32mif\u001b[0m \u001b[0;32mnot\u001b[0m \u001b[0mresp\u001b[0m\u001b[0;34m.\u001b[0m\u001b[0mget\u001b[0m\u001b[0;34m(\u001b[0m\u001b[0;34m'access'\u001b[0m\u001b[0;34m,\u001b[0m \u001b[0;32mFalse\u001b[0m\u001b[0;34m)\u001b[0m\u001b[0;34m:\u001b[0m\u001b[0;34m\u001b[0m\u001b[0;34m\u001b[0m\u001b[0m\n\u001b[1;32m     70\u001b[0m     \u001b[0;32mraise\u001b[0m \u001b[0mNotebookAccessError\u001b[0m\u001b[0;34m(\u001b[0m\u001b[0mkey\u001b[0m\u001b[0;34m)\u001b[0m\u001b[0;34m\u001b[0m\u001b[0;34m\u001b[0m\u001b[0m\n",
            "\u001b[0;31mSecretNotFoundError\u001b[0m: Secret GEMINI_API_KEY does not exist."
          ]
        }
      ]
    },
    {
      "cell_type": "code",
      "source": [],
      "metadata": {
        "id": "G6LlIyfNSOQt"
      },
      "execution_count": null,
      "outputs": []
    }
  ]
}