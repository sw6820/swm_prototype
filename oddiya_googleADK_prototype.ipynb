{
  "nbformat": 4,
  "nbformat_minor": 0,
  "metadata": {
    "colab": {
      "provenance": [],
      "authorship_tag": "ABX9TyPQDoj8I5Z1/n0QDAcT79D6",
      "include_colab_link": true
    },
    "kernelspec": {
      "name": "python3",
      "display_name": "Python 3"
    },
    "language_info": {
      "name": "python"
    }
  },
  "cells": [
    {
      "cell_type": "markdown",
      "metadata": {
        "id": "view-in-github",
        "colab_type": "text"
      },
      "source": [
        "<a href=\"https://colab.research.google.com/github/sw6820/swm_prototype/blob/main/oddiya_googleADK_prototype.ipynb\" target=\"_parent\"><img src=\"https://colab.research.google.com/assets/colab-badge.svg\" alt=\"Open In Colab\"/></a>"
      ]
    },
    {
      "cell_type": "code",
      "execution_count": null,
      "metadata": {
        "colab": {
          "base_uri": "https://localhost:8080/"
        },
        "id": "399FdajTdawz",
        "outputId": "7088e766-fff7-4cce-8e51-265181df09f7"
      },
      "outputs": [
        {
          "output_type": "stream",
          "name": "stdout",
          "text": [
            "✅ Libraries installed. (Google ADK version)\n"
          ]
        }
      ],
      "source": [
        "# =======================================================================\n",
        "#  CELL 1: SETUP - INSTALL LIBRARIES\n",
        "# =======================================================================\n",
        "# We now use the official Google Agent Development Kit (ADK).\n",
        "!pip install -qU google-adk\n",
        "\n",
        "print(\"✅ Libraries installed. (Google ADK version)\")\n"
      ]
    },
    {
      "cell_type": "code",
      "source": [
        "\n",
        "# =======================================================================\n",
        "#  CELL 2: IMPORTS & API KEY CONFIGURATION\n",
        "# =======================================================================\n",
        "import os\n",
        "import asyncio\n",
        "from google.colab import userdata\n",
        "\n",
        "# Google ADK specific imports\n",
        "from google.adk.agents import LlmAgent\n",
        "from google.adk.runners import Runner\n",
        "from google.adk.sessions import InMemorySessionService\n",
        "from google.genai import types as genai_types\n",
        "\n",
        "# Pydantic is still used for data validation and defining the output structure.\n",
        "from pydantic import BaseModel, Field\n",
        "from typing import List\n",
        "\n",
        "# --- API Key Configuration ---\n",
        "try:\n",
        "    # Get Gemini API Key\n",
        "    os.environ[\"GOOGLE_API_KEY\"] = userdata.get('GOOGLE_API_KEY')\n",
        "    print(\"✅ Google Gemini API Key configured successfully.\")\n",
        "except Exception as e:\n",
        "    # CORRECTED: The variable name for the secret was fixed.\n",
        "    print(f\"🚨 SECRET NOT FOUND or other error: {e}. Please ensure 'GOOGLE_API_KEY' is set in Colab Secrets.\")\n"
      ],
      "metadata": {
        "colab": {
          "base_uri": "https://localhost:8080/"
        },
        "id": "yudPYL47gFl1",
        "outputId": "d0d30270-a62c-4534-96b5-f0d5f68d71e2"
      },
      "execution_count": null,
      "outputs": [
        {
          "output_type": "stream",
          "name": "stdout",
          "text": [
            "✅ Google Gemini API Key configured successfully.\n"
          ]
        }
      ]
    },
    {
      "cell_type": "code",
      "source": [
        "\n",
        "# =======================================================================\n",
        "#  CELL 3: BACKEND - DEFINE DATA STRUCTURES\n",
        "# =======================================================================\n",
        "# NOTE: These Pydantic models are the same. They define the required output structure.\n",
        "\n",
        "class GenerativeActivity(BaseModel):\n",
        "    name: str = Field(description=\"The name of the recommended place. The value for this key MUST be in Korean (한국어).\")\n",
        "    description: str = Field(description=\"A brief description of the activity. The value for this key MUST be in Korean (한국어).\")\n",
        "\n",
        "class DailyGenerativePlan(BaseModel):\n",
        "    day_number: int = Field(description=\"The day number for this plan (e.g., 1, 2).\")\n",
        "    city: str = Field(description=\"The city for this plan. The value for this key MUST be in Korean (한국어).\")\n",
        "    theme_of_the_day: str = Field(description=\"A fun theme for the day. The value for this key MUST be in Korean (한국어).\")\n",
        "    morning_activity: GenerativeActivity = Field(description=\"The morning activity. Its content must be in Korean.\")\n",
        "    afternoon_activity: GenerativeActivity = Field(description=\"The afternoon activity. Its content must be in Korean.\")\n",
        "\n",
        "class FullTripPlan(BaseModel):\n",
        "    \"\"\"The complete, structured set of generated recommendations for the trip.\"\"\"\n",
        "    plans: List[DailyGenerativePlan]\n",
        "\n",
        "print(\"✅ Backend data structures defined.\")\n"
      ],
      "metadata": {
        "colab": {
          "base_uri": "https://localhost:8080/"
        },
        "id": "UzIWNt0-gNVA",
        "outputId": "2fa6bf5c-79ec-46b0-ef0c-111b367a3d73"
      },
      "execution_count": null,
      "outputs": [
        {
          "output_type": "stream",
          "name": "stdout",
          "text": [
            "✅ Backend data structures defined.\n"
          ]
        }
      ]
    },
    {
      "cell_type": "code",
      "source": [
        "\n",
        "# =======================================================================\n",
        "#  CELL 4: BACKEND - AGENT DEFINITION (ADK)\n",
        "# =======================================================================\n",
        "# We define an LLM-powered agent to handle travel planning.\n",
        "\n",
        "# The instruction serves as the system prompt for the agent.\n",
        "agent_instruction = \"\"\"\n",
        "You are a travel planner for families. Your sole task is to generate a JSON object that strictly follows the provided schema. Do not include any other text, explanations, or conversational remarks in your response. Do NOT wrap the JSON in markdown code blocks.\n",
        "\n",
        "**Critical Rules:**\n",
        "1. The entire output MUST be a single JSON object that conforms exactly to the following Pydantic schema:\n",
        "{{\n",
        "  \"plans\": [\n",
        "    {{\n",
        "      \"day_number\": 1,\n",
        "      \"city\": \"City in Korean\",\n",
        "      \"theme_of_the_day\": \"Theme in Korean\",\n",
        "      \"morning_activity\": {{\n",
        "        \"name\": \"Activity Name in Korean\",\n",
        "        \"description\": \"Activity Description in Korean\"\n",
        "      }},\n",
        "      \"afternoon_activity\": {{\n",
        "        \"name\": \"Activity Name in Korean\",\n",
        "        \"description\": \"Activity Description in Korean\"\n",
        "      }}\n",
        "    }},\n",
        "    // Add more daily plans as needed\n",
        "  ]\n",
        "}}\n",
        "2. The JSON 'keys' (like 'plans', 'day_number', 'city', 'theme_of_the_day', 'morning_activity', 'afternoon_activity', 'name', 'description') MUST be in English.\n",
        "3. The JSON 'values' (the actual content like the theme, descriptions, and place names) MUST be written in Korean (한국어).\n",
        "\n",
        "The user will provide the city and the number of days for the trip.\n",
        "\"\"\"\n",
        "\n",
        "# The output_schema tells the ADK to validate the model's output against our Pydantic model.\n",
        "# The output_key specifies where to store the validated, structured output in the agent's session state.\n",
        "travel_agent = LlmAgent(\n",
        "    name=\"travel_planner_agent\",\n",
        "    model=\"gemini-1.5-flash-latest\",\n",
        "    instruction=agent_instruction,\n",
        "    output_schema=FullTripPlan,\n",
        "    output_key=\"trip_plan_data\",\n",
        ")\n",
        "\n",
        "print(\"✅ Google ADK Agent defined.\")"
      ],
      "metadata": {
        "colab": {
          "base_uri": "https://localhost:8080/"
        },
        "id": "fzfVLKvMgQ8Y",
        "outputId": "69306dab-e862-4f61-f3b6-12b011c086df"
      },
      "execution_count": null,
      "outputs": [
        {
          "output_type": "stream",
          "name": "stderr",
          "text": [
            "WARNING:google_adk.google.adk.agents.llm_agent:Invalid config for agent travel_planner_agent: output_schema cannot co-exist with agent transfer configurations. Setting disallow_transfer_to_parent=True, disallow_transfer_to_peers=True\n"
          ]
        },
        {
          "output_type": "stream",
          "name": "stdout",
          "text": [
            "✅ Google ADK Agent defined.\n"
          ]
        }
      ]
    },
    {
      "cell_type": "code",
      "source": [
        "# =======================================================================\n",
        "#  CELL 5: DEFINE INPUT & RUN THE ENGINE (Google ADK Version)\n",
        "# =======================================================================\n",
        "\n",
        "async def run_trip_planning():\n",
        "    # --- Modify your trip input here ---\n",
        "    trip_plan_input = {\n",
        "        \"서울\": 2,\n",
        "        \"부산\": 2\n",
        "    }\n",
        "    # --------------------------------\n",
        "\n",
        "    print(\"===================================================\")\n",
        "    print(\" G.O.A.T. Generative Engine (Google ADK Mode) \")\n",
        "    print(\"===================================================\")\n",
        "    print(f\"\\nTravel Plan: {trip_plan_input}\")\n",
        "\n",
        "    all_plans = []\n",
        "    full_day_counter = 1\n",
        "\n",
        "    # --- ADK Runner and Session Setup ---\n",
        "    app_name = \"trip_planner_app\"\n",
        "    session_service = InMemorySessionService()\n",
        "    runner = Runner(\n",
        "        agent=travel_agent,\n",
        "        app_name=app_name,\n",
        "        session_service=session_service\n",
        "    )\n",
        "\n",
        "    # Iterate through the user-defined trip plan\n",
        "    for city, num_days in trip_plan_input.items():\n",
        "        print(f\"\\n[Engine] Requesting a {num_days}-day plan for {city} from the ADK Agent...\")\n",
        "\n",
        "        try:\n",
        "            user_id = \"user_colab\"\n",
        "            session_id = f\"session_{city.lower()}\"\n",
        "\n",
        "            session = await session_service.create_session(\n",
        "                app_name=app_name,\n",
        "                user_id=user_id,\n",
        "                session_id=session_id\n",
        "            )\n",
        "\n",
        "            user_query = f\"Please generate a complete {num_days}-day trip itinerary for {city}.\"\n",
        "            content = genai_types.Content(role='user', parts=[genai_types.Part(text=user_query)])\n",
        "\n",
        "            async for event in runner.run_async(\n",
        "                user_id=user_id,\n",
        "                session_id=session_id,\n",
        "                new_message=content\n",
        "            ):\n",
        "                pass\n",
        "\n",
        "            final_session = await session_service.get_session(app_name=app_name, user_id=user_id, session_id=session_id)\n",
        "\n",
        "            # Retrieve the raw dictionary from the session state\n",
        "            raw_result_dict = final_session.state.get(\"trip_plan_data\")\n",
        "\n",
        "            # --- CORRECTION: Manually parse the dictionary into a Pydantic model ---\n",
        "            # This converts the dict into a FullTripPlan object, which has the .plans attribute.\n",
        "            if raw_result_dict:\n",
        "                result = FullTripPlan.model_validate(raw_result_dict)\n",
        "\n",
        "                # Process and number the days sequentially for the whole trip\n",
        "                for plan in result.plans:\n",
        "                    plan.day_number = full_day_counter\n",
        "                    all_plans.append(plan)\n",
        "                    full_day_counter += 1\n",
        "            else:\n",
        "                 print(f\"[Warning] No structured data was returned for {city}.\")\n",
        "\n",
        "\n",
        "        except Exception as e:\n",
        "            print(f\"[Error] An error occurred while generating recommendations for {city}: {e}\")\n",
        "\n",
        "    # --- Display the final generated plan ---\n",
        "    print(\"\\n\\n===================================================\")\n",
        "    print(\"        ✨ Final Generated Travel Plan ✨\")\n",
        "    print(\"===================================================\")\n",
        "\n",
        "    if not all_plans:\n",
        "        print(\"\\nNo plans were generated.\")\n",
        "    else:\n",
        "        for day_plan in all_plans:\n",
        "            print(\"\\n---------------------------------------------------\")\n",
        "            print(f\"  Day {day_plan.day_number}: '{day_plan.theme_of_the_day}' in {day_plan.city}\")\n",
        "            print(\"---------------------------------------------------\")\n",
        "\n",
        "            morning = day_plan.morning_activity\n",
        "            print(f\"\\n  🌅 Morning: {morning.name}\")\n",
        "            print(f\"  👉 {morning.description}\")\n",
        "\n",
        "            afternoon = day_plan.afternoon_activity\n",
        "            print(f\"\\n  ☀️ Afternoon: {afternoon.name}\")\n",
        "            print(f\"  👉 {afternoon.description}\")\n",
        "\n",
        "    print(\"\\n\\n===================================================\")\n",
        "    print(\"              [Engine Run Complete]\")\n",
        "    print(\"===================================================\")\n",
        "\n",
        "# Run the asynchronous function\n",
        "await run_trip_planning()"
      ],
      "metadata": {
        "colab": {
          "base_uri": "https://localhost:8080/"
        },
        "id": "SaBh4hijfkT8",
        "outputId": "012c5672-2ace-4abd-82ac-56fb6ec06dd7"
      },
      "execution_count": null,
      "outputs": [
        {
          "output_type": "stream",
          "name": "stdout",
          "text": [
            "===================================================\n",
            " G.O.A.T. Generative Engine (Google ADK Mode) \n",
            "===================================================\n",
            "\n",
            "Travel Plan: {'서울': 2, '부산': 2}\n",
            "\n",
            "[Engine] Requesting a 2-day plan for 서울 from the ADK Agent...\n",
            "\n",
            "[Engine] Requesting a 2-day plan for 부산 from the ADK Agent...\n",
            "\n",
            "\n",
            "===================================================\n",
            "        ✨ Final Generated Travel Plan ✨\n",
            "===================================================\n",
            "\n",
            "---------------------------------------------------\n",
            "  Day 1: '서울의 역사와 문화 체험' in 서울\n",
            "---------------------------------------------------\n",
            "\n",
            "  🌅 Morning: 경복궁\n",
            "  👉 웅장한 경복궁을 방문하여 아름다운 건축물과 역사를 느껴보세요. 왕궁의 위엄과 아름다움에 흠뻑 빠져보세요.\n",
            "\n",
            "  ☀️ Afternoon: 인사동\n",
            "  👉 전통적인 한국의 아름다움을 간직한 인사동 거리를 거닐며 다양한 공예품과 전통 차를 즐겨보세요. 한국의 문화를 직접 체험할 수 있는 좋은 기회입니다.\n",
            "\n",
            "---------------------------------------------------\n",
            "  Day 2: '서울의 즐거움과 쇼핑' in 서울\n",
            "---------------------------------------------------\n",
            "\n",
            "  🌅 Morning: 롯데월드\n",
            "  👉 짜릿한 놀이기구와 다양한 볼거리로 가득한 롯데월드에서 즐거운 시간을 보내세요. 온 가족이 함께 즐길 수 있는 최고의 놀이공원입니다.\n",
            "\n",
            "  ☀️ Afternoon: 명동 쇼핑\n",
            "  👉 명동 거리에서 다양한 쇼핑을 즐기고 맛있는 길거리 음식을 맛보세요. 젊음의 거리에서 활기찬 분위기를 만끽하세요.\n",
            "\n",
            "---------------------------------------------------\n",
            "  Day 3: '해변과 문화 체험' in 부산\n",
            "---------------------------------------------------\n",
            "\n",
            "  🌅 Morning: 해운대 해수욕장\n",
            "  👉 해운대 해수욕장에서 모래놀이와 물놀이를 즐겨요. 아름다운 해변을 거닐며 사진도 찍어봐요.\n",
            "\n",
            "  ☀️ Afternoon: 부산 영화의 전당\n",
            "  👉 영화의 전당에서 다양한 영화 관련 전시를 관람하고, 야외 공간에서 산책도 즐겨요.\n",
            "\n",
            "---------------------------------------------------\n",
            "  Day 4: '역사와 맛집 탐방' in 부산\n",
            "---------------------------------------------------\n",
            "\n",
            "  🌅 Morning: 감천문화마을\n",
            "  👉 알록달록 예쁜 집들이 가득한 감천문화마을을 산책하며 사진을 찍고, 아기자기한 소품샵들을 구경해요.\n",
            "\n",
            "  ☀️ Afternoon: 국제시장 & 자갈치시장\n",
            "  👉 국제시장에서 다양한 먹거리와 쇼핑을 즐기고, 자갈치시장에서는 신선한 해산물을 구경하고 맛보아요.\n",
            "\n",
            "\n",
            "===================================================\n",
            "              [Engine Run Complete]\n",
            "===================================================\n"
          ]
        }
      ]
    },
    {
      "cell_type": "code",
      "source": [],
      "metadata": {
        "id": "iO1ynaBwflsB"
      },
      "execution_count": null,
      "outputs": []
    }
  ]
}